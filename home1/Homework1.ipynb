{
 "cells": [
  {
   "cell_type": "markdown",
   "id": "d3e12159",
   "metadata": {},
   "source": [
    "# Homework 1\n"
   ]
  },
  {
   "cell_type": "markdown",
   "id": "1c4902be",
   "metadata": {},
   "source": [
    "## exercise 1\n",
    "\n",
    "Exercise 1. Consider the network in Figure 1 with link capacities\n",
    "$c_2 = c_4 = c_6 = 1, c_1 = c_3 = c_5 = 2$."
   ]
  },
  {
   "cell_type": "code",
   "execution_count": 1,
   "id": "e7733030",
   "metadata": {},
   "outputs": [
    {
     "data": {
      "text/html": [
       "<img src=\"exercise1.png\" width=\"300\" height=\"300\"/>"
      ],
      "text/plain": [
       "<IPython.core.display.Image object>"
      ]
     },
     "execution_count": 1,
     "metadata": {},
     "output_type": "execute_result"
    }
   ],
   "source": [
    "from IPython.display import Image\n",
    "\n",
    "Image(url=\"exercise1.png\", width=300, height=300)"
   ]
  },
  {
   "cell_type": "markdown",
   "id": "46ab58e7",
   "metadata": {},
   "source": [
    "### exercise 1.1 \n",
    "What is the minimum aggregate capacity that needs to be removed for no feasible flow from o to d to exist?\n",
    "\n",
    "The minimal capacity that needs to be removed equals the capacity of the min-cut of the network"
   ]
  },
  {
   "cell_type": "code",
   "execution_count": 2,
   "id": "57a85262",
   "metadata": {},
   "outputs": [
    {
     "data": {
      "image/png": "[encoded data removed]",
      "text/plain": [
       "<Figure size 432x288 with 1 Axes>"
      ]
     },
     "metadata": {},
     "output_type": "display_data"
    }
   ],
   "source": [
    "import networkx as nx\n",
    "\n",
    "G = nx.DiGraph()\n",
    "# o = 0, a = 1, b = 2, c = 3, d = 4\n",
    "\n",
    "G.add_edges_from([(0,1),(0,2),(2,3),(3,4),(2,4),(1,4)])\n",
    "\n",
    "#add position for clearer visualization\n",
    "pos = {0:[-1,0], 1:[0,1], 2:[0,0], 3:[0,-1], 4:[1,0]}\n",
    "\n",
    "#draw the graph with special labels indicating the capacity of each edge\n",
    "nx.draw_networkx_edge_labels(G,pos,edge_labels={\n",
    "    (0,1):'2',(0,2):'2',(2,3):'2',\n",
    "    (3,4):'1',(2,4):'1',(1,4):'1'},font_color='red')\n",
    "\n",
    "nx.draw(G, pos, with_labels = True)"
   ]
  },
  {
   "cell_type": "code",
   "execution_count": 3,
   "id": "8861ec10",
   "metadata": {},
   "outputs": [
    {
     "data": {
      "text/plain": [
       "(3, ({0, 1, 2, 3}, {4}))"
      ]
     },
     "execution_count": 3,
     "metadata": {},
     "output_type": "execute_result"
    }
   ],
   "source": [
    "# insert manually the capacity of each edge\n",
    "G[0][1]['capacity'] = 2\n",
    "G[0][2]['capacity'] = 2\n",
    "G[2][3]['capacity'] = 2\n",
    "G[3][4]['capacity'] = 1\n",
    "G[2][4]['capacity'] = 1\n",
    "G[1][4]['capacity'] = 1\n",
    "\n",
    "#apply min-cut algorithm to obtain the min-cut\n",
    "nx.algorithms.flow.minimum_cut(G,0,4)"
   ]
  },
  {
   "cell_type": "markdown",
   "id": "8a35cf12",
   "metadata": {},
   "source": [
    "This shows that the minimum aggregate capacity that needs to be removed is 3 and one of the possible choices is to remove edges $e2, e4$ and $e6$  \n",
    "The cut in this case corresponds to $U=\\{o,a,b,c\\},U^C=\\{d\\}$ -> $C_U = 3$"
   ]
  },
  {
   "cell_type": "markdown",
   "id": "bb1f2081",
   "metadata": {},
   "source": [
    "### exercise 1.2\n",
    "what is the maximum aggregate capacity that can be removed from the links without affecting the maximum throughput from o to d?"
   ]
  },
  {
   "cell_type": "markdown",
   "id": "0455f982",
   "metadata": {},
   "source": [
    "From the previous result we already know that the min-cut is 3, and for the Max-flow Min-cut theorem we get that the max throughput of our network is 3. \n",
    "Using the algorithm provided by the networkx library we could check which is the flow vector, and from that vector we could see which are the edges from which we can remove the capacity "
   ]
  },
  {
   "cell_type": "code",
   "execution_count": 4,
   "id": "880b1327",
   "metadata": {},
   "outputs": [
    {
     "data": {
      "text/plain": [
       "(3, {0: {1: 1, 2: 2}, 1: {4: 1}, 2: {3: 1, 4: 1}, 3: {4: 1}, 4: {}})"
      ]
     },
     "execution_count": 4,
     "metadata": {},
     "output_type": "execute_result"
    }
   ],
   "source": [
    "#apply max-flow function to obtain the max-throughput of the graph\n",
    "nx.algorithms.flow.maximum_flow(G,0,4)"
   ]
  },
  {
   "cell_type": "markdown",
   "id": "fa2e6a56",
   "metadata": {},
   "source": [
    "To better understand the results here, we could create a simple table to show the flow vector f and the respective capacity vector c associated to the vector of edges $e$ = [$e_1$, $e_2$, $e_3$, $e_4$, $e_5$, $e_6$]\n",
    "\n",
    "\n",
    "$$\n",
    " f = [1, 1, 2 , 1, 1, 1]\n",
    "$$\n",
    "\n",
    "$$\n",
    " c = [2, 1, 2, 1, 2, 1]\n",
    "$$\n",
    "\n",
    "\n",
    "Using as reference this table we could say that the max aggregate capacity that we could remove from the network without affecting the max throughput would be 2 (by adjusting the capacity on link $e_1$ and link $e_5$)"
   ]
  },
  {
   "cell_type": "markdown",
   "id": "33eb5268",
   "metadata": {},
   "source": [
    "### exercise 1.3\n",
    "You are given x > 0 extra units of capacity. How should you distribute them in order to\n",
    "maximize the throughput that can be sent from o to d? Plot the maximum throughput from\n",
    "o to d as a function of x ≥ 0."
   ]
  },
  {
   "cell_type": "markdown",
   "id": "3bac5231",
   "metadata": {},
   "source": [
    "Because of the max-flox min-cut theorem, the max throughput depends on the value of the minimum o-d cut. For this reason, our goal would be to maximize the min-cut of our network. The possible cuts of our network can be resumed in the following table \n",
    "\n",
    "- $U_1=\\{o,a,b,c\\},U_1^C=\\{d\\}$ -> $C_U = 3$\n",
    "- $U_2=\\{o,b,c\\},U_2^C=\\{c,d\\}$ -> $C_U = 4$\n",
    "- $U_3=\\{o,a,c\\},U_3^C=\\{b,d\\}$ -> $C_U = 4$\n",
    "- $U_4=\\{o,a,b\\},U_4^C=\\{a,d\\}$ -> $C_U = 4$\n",
    "- $U_5=\\{o,c\\},U_5^C=\\{a,b,d\\}$ -> $C_U = 5$\n",
    "- $U_6=\\{o,b\\},U_6^C=\\{a,c,d\\}$ -> $C_U = 5$\n",
    "- $U_7=\\{o,a\\},U_7^C=\\{b,c,d\\}$ -> $C_U = 3$\n",
    "- $U_8=\\{o\\},U_8^C=\\{a,b,c,d\\}$ -> $C_U = 4$"
   ]
  },
  {
   "cell_type": "markdown",
   "id": "63202691",
   "metadata": {},
   "source": [
    "An intuitive approach would be to add some capacity to certain edges so that we could increase the min cut\n",
    "A possible approach could be done by the following code\n",
    "Notice that the following code does not compute in the \"best way\" the cuts of the problem "
   ]
  },
  {
   "cell_type": "code",
   "execution_count": 5,
   "id": "0a060980",
   "metadata": {},
   "outputs": [
    {
     "name": "stdout",
     "output_type": "stream",
     "text": [
      "[0, 1, 2, 3]\n",
      "[0, 2, 3]\n",
      "[0, 1, 3]\n",
      "[0, 1, 2]\n",
      "[0, 3]\n",
      "[0, 2]\n",
      "[0, 1]\n",
      "[0]\n"
     ]
    }
   ],
   "source": [
    "#the following code computes all the possible o-d cuts in G\n",
    "from itertools import combinations\n",
    "\n",
    "U = []\n",
    "\n",
    "for L in range(1, G.number_of_nodes()): #L gives the number of element of each subset\n",
    "    for subset in combinations(G.nodes, L): #subset is a candicate o-d cut with size L\n",
    "        if int(0) in subset and int(4) not in subset: #check if node 'o' is in subset and node 'd' is not in subset\n",
    "            U.append(list(subset)) \n",
    "            \n",
    "U = U[::-1] #order the subsets in decreasing order\n",
    "for u in U:\n",
    "    print(u)"
   ]
  },
  {
   "cell_type": "code",
   "execution_count": 6,
   "id": "3a5bee0c",
   "metadata": {},
   "outputs": [
    {
     "name": "stdout",
     "output_type": "stream",
     "text": [
      "[4]\n",
      "[1, 4]\n",
      "[2, 4]\n",
      "[3, 4]\n",
      "[1, 2, 4]\n",
      "[1, 3, 4]\n",
      "[2, 3, 4]\n",
      "[1, 2, 3, 4]\n"
     ]
    }
   ],
   "source": [
    "#The following code is used to compute the complementary set U_c given all the o-d cuts U\n",
    "U_c = []\n",
    "for subset in U: #for each o-d cut U\n",
    "    base_set = list(G.nodes) #we obtain all the set of nodes \n",
    "    for el in subset: # for each element in the selected o-d cut\n",
    "        base_set.remove(el) #we remove from the set of all nodes the o-d cut nodes\n",
    "    print(base_set)\n",
    "    U_c.append(base_set)"
   ]
  },
  {
   "cell_type": "code",
   "execution_count": 7,
   "id": "cca40761",
   "metadata": {},
   "outputs": [],
   "source": [
    "# this function computes the capacity of each o-d cut \n",
    "def computecuts(G, U, U_c):\n",
    "    iteration = 0 #used to make correspondence between the o-d cut U and it's complementary U_c\n",
    "    cuts = []\n",
    "    for subset in U: # for each subset in U\n",
    "        cut = 0\n",
    "        for el in subset: # for each node 'el' in the subset \n",
    "            adjs = list(G.adj[el]) #we retrieve all the adiacent nodes of the node 'el' \n",
    "            #print(list(G.adj[el]))\n",
    "            for adj in adjs: # for each adjacent node \n",
    "                if adj in U_c[iteration]: # if the adjacent node is in the correspondent complementary set U_c ->\n",
    "                    cut += G[el][adj]['capacity'] # update the capacity of the cut because 'el' is in U and 'adj' is in U_c\n",
    "        iteration += 1 # update the iteration number because we have finished checking this U and we are going to the next\n",
    "        cuts.append(cut) # append the cut in the result vector \n",
    "        #print(cut)\n",
    "    return cuts"
   ]
  },
  {
   "cell_type": "code",
   "execution_count": 8,
   "id": "bca624e8",
   "metadata": {},
   "outputs": [],
   "source": [
    "# this function is used to compute the most common used edge in all the possible cuts \n",
    "import numpy as np\n",
    "from collections import Counter, OrderedDict\n",
    "def find_edges(cuts, G, U, U_c):\n",
    "    cuts = np.array(cuts) # transfor the array into numpy array to perform specific function \n",
    "    min_cuts = np.where(cuts == cuts.min())[0] # returns the indexes of the minimum capacity cuts we have in the numpy array\n",
    "    min_cuts_index = min_cuts.tolist() #bring it back to list\n",
    "    edges = []\n",
    "\n",
    "    \n",
    "    for i in min_cuts_index: # for each index in the list of indexes\n",
    "        for el in U[i]: # for each node in the o-d with minimun capacity cut \n",
    "            adjs = list(G.adj[el]) # find all the adjacent nodes\n",
    "            for adj in adjs: # for each adjacent node \n",
    "                if adj in U_c[i]: # check if the adjacent node is in the complementary cut U_c ->\n",
    "                    edges.append((el,adj)) # add it to the list of edges \n",
    "    \n",
    "    # we would like to find the most common used edge in all the minimum capacity cuts \n",
    "    dct = Counter(edges) # gives us a dictionary of {edge_number : n_times it appear}\n",
    "    dct = OrderedDict(dct) # order it \n",
    "    return max(edges, key=dct.get) # return the one with max frequency of appearence"
   ]
  },
  {
   "cell_type": "code",
   "execution_count": 9,
   "id": "be128ba2",
   "metadata": {},
   "outputs": [
    {
     "name": "stdout",
     "output_type": "stream",
     "text": [
      "the nodes are 1 4\n",
      "[4, 4, 5, 5, 5, 5, 4, 4]\n",
      "the max throughput now is 4\n",
      "the nodes are 1 4\n",
      "[5, 4, 6, 6, 5, 5, 5, 4]\n",
      "the max throughput now is 4\n",
      "the nodes are 0 1\n",
      "[5, 5, 6, 6, 6, 6, 5, 5]\n",
      "the max throughput now is 5\n",
      "the nodes are 1 4\n",
      "[6, 5, 7, 7, 6, 6, 6, 5]\n",
      "the max throughput now is 5\n",
      "the nodes are 0 1\n",
      "[6, 6, 7, 7, 7, 7, 6, 6]\n",
      "the max throughput now is 6\n",
      "the nodes are 1 4\n",
      "[7, 6, 8, 8, 7, 7, 7, 6]\n",
      "the max throughput now is 6\n",
      "the nodes are 0 1\n",
      "[7, 7, 8, 8, 8, 8, 7, 7]\n",
      "the max throughput now is 7\n",
      "the nodes are 1 4\n",
      "[8, 7, 9, 9, 8, 8, 8, 7]\n",
      "the max throughput now is 7\n",
      "the nodes are 0 1\n",
      "[8, 8, 9, 9, 9, 9, 8, 8]\n",
      "the max throughput now is 8\n",
      "[0, 1, 2, 3, 4, 5, 6, 7, 8, 9]\n",
      "[3, 4, 4, 5, 5, 6, 6, 7, 7, 8]\n"
     ]
    }
   ],
   "source": [
    "throughput = 8 # variable to modify to check the behaviour of the x value (extra_capacity)\n",
    "y_list = []\n",
    "x_list = []\n",
    "x = 0 # variable to use for monitoring the extra capacity added to the graph\n",
    "t = nx.algorithms.flow.minimum_cut(G,0,4)[0]\n",
    "x_list.append(x)\n",
    "y_list.append(t)\n",
    "cuts = computecuts(G, U, U_c) #compute all the cuts \n",
    "while t < throughput: \n",
    "    node1,node2 = find_edges(cuts, G, U, U_c) #find the edge with max frequency in all the min capacity cuts \n",
    "    print('the nodes are '+ str(node1) +\" \"+ str(node2))\n",
    "    G[node1][node2][\"capacity\"] += 1 #update its capacity\n",
    "#     print(dict(G.edges))\n",
    "    x += 1 #since we added an extra capacity, we increment this value\n",
    "    cuts = computecuts(G, U, U_c) #compute all the cuts \n",
    "    print(cuts)\n",
    "    t = nx.algorithms.flow.minimum_cut(G,0,4)[0] \n",
    "    x_list.append(x)\n",
    "    y_list.append(t)\n",
    "    print('the max throughput now is ' + str(t))\n",
    "    #then we repeat the process again until the min-cut is equal to the throughput set at the start \n",
    "\n",
    "print(x_list)\n",
    "print(y_list)\n"
   ]
  },
  {
   "cell_type": "code",
   "execution_count": 10,
   "id": "7b262b57",
   "metadata": {},
   "outputs": [
    {
     "data": {
      "image/png": "[encoded data removed]",
      "text/plain": [
       "<Figure size 432x288 with 1 Axes>"
      ]
     },
     "metadata": {
      "needs_background": "light"
     },
     "output_type": "display_data"
    }
   ],
   "source": [
    "from matplotlib import pyplot as plt\n",
    "\n",
    "plt.plot(x_list, y_list)\n",
    "plt.xlabel('x (extra capacity)')\n",
    "plt.ylabel('maximal throughput')\n",
    "plt.savefig('exercise1_3.png')"
   ]
  },
  {
   "cell_type": "code",
   "execution_count": 11,
   "id": "7690d958",
   "metadata": {},
   "outputs": [
    {
     "data": {
      "text/plain": [
       "<Figure size 432x288 with 0 Axes>"
      ]
     },
     "metadata": {},
     "output_type": "display_data"
    }
   ],
   "source": [
    "plt.savefig('exercise1_3.png')\n",
    "plt.show()"
   ]
  },
  {
   "cell_type": "markdown",
   "id": "d0bc2ccc",
   "metadata": {},
   "source": [
    "## exercise 2\n"
   ]
  },
  {
   "cell_type": "markdown",
   "id": "627e3b3e",
   "metadata": {},
   "source": [
    "There are a set of people {p1, p2, p3, p4} and a set of books {b1, b2, b3, b4}. Each\n",
    "person is interested in a subset of books, specifically\n",
    "\n",
    "$$\n",
    "    p_1 -> \\{b_1,b_2\\}, p_2 -> \\{b_2,b_3\\}, p_3 -> \\{b_1,b_4\\}, p_4 -> \\{b_1,b_2,b_4\\}\n",
    "$$"
   ]
  },
  {
   "cell_type": "code",
   "execution_count": 12,
   "id": "1ce63b24",
   "metadata": {},
   "outputs": [
    {
     "data": {
      "image/png": "[encoded data removed]",
      "text/plain": [
       "<Figure size 432x288 with 1 Axes>"
      ]
     },
     "metadata": {},
     "output_type": "display_data"
    }
   ],
   "source": [
    "import networkx as nx \n",
    "from networkx.algorithms import bipartite\n",
    "import matplotlib\n",
    "matplotlib.use(\"Agg\")\n",
    "import matplotlib.pyplot as plt\n",
    "\n",
    "G = nx.DiGraph()\n",
    "\n",
    "p = ['p1','p2','p3','p4']\n",
    "b = ['b1','b2','b3','b4']\n",
    "\n",
    "# G.add_nodes_from(['p1','p2','p3','p4'], bipartite=0)\n",
    "# G.add_nodes_from(['b1','b2','b3'],bipartite=1)\n",
    "# consider p1,p2,p3,p4 as 1,2,3,4 and b1,b2,b3,b4 as 5,6,7,8\n",
    "G.add_edges_from([('p1','b1'),('p1','b2'),('p2','b2'),('p2','b3'),('p3','b1'),('p3','b4'),('p4','b1'),('p4','b2'),('p4','b4')])\n",
    "\n",
    "\n",
    "#position to better visualize the graph\n",
    "pos = {'p1':[0,2], 'p2':[0,1], 'p3':[0,0], 'p4':[0,-1], 'b1':[1,2], 'b2':[1,1], 'b3':[1,0], 'b4':[1,-1]}\n",
    "\n",
    "f = plt.figure()\n",
    "nx.draw_networkx(G, pos, width = 2)\n",
    "f.savefig(\"Exercise2.png\", format=\"PNG\")\n"
   ]
  },
  {
   "cell_type": "markdown",
   "id": "bf5f96f7",
   "metadata": {},
   "source": [
    "### exercise 2.1\n",
    "\n",
    "Exploit max-flow problems to find a perfect matching (if any)."
   ]
  },
  {
   "cell_type": "code",
   "execution_count": 13,
   "id": "c0202b38",
   "metadata": {},
   "outputs": [
    {
     "data": {
      "image/png": "[encoded data removed]",
      "text/plain": [
       "<Figure size 432x288 with 1 Axes>"
      ]
     },
     "metadata": {},
     "output_type": "display_data"
    }
   ],
   "source": [
    "#we create the associated graph to perform the max-flow function\n",
    "edges = []\n",
    "for node in p:\n",
    "    edges.append(('o',node)) #add edges 'o' - 'p' = {p1,p2,p3,p4}\n",
    "for node in b:\n",
    "    edges.append((node,'d')) #add edges 'b' = {b1,b2,b3,b4} - 'd'\n",
    "    \n",
    "G.add_edges_from(edges)\n",
    "pos = {'p1':[0,2], 'p2':[0,1], 'p3':[0,0], 'p4':[0,-1], 'b1':[1,2], 'b2':[1,1], 'b3':[1,0], 'b4':[1,-1], 'o':[-1,0], 'd':[2,0]}\n",
    "\n",
    "f = plt.figure()\n",
    "nx.draw_networkx(G, pos,with_labels=True)\n",
    "f.savefig(\"Exercise2_1.png\", format=\"PNG\")\n",
    "\n",
    "#to use the max flow function, we need to set the capacity\n",
    "for (u,v) in G.edges:\n",
    "    G[u][v]['capacity']=1"
   ]
  },
  {
   "cell_type": "code",
   "execution_count": 14,
   "id": "e5e126c0",
   "metadata": {},
   "outputs": [
    {
     "data": {
      "text/plain": [
       "(4,\n",
       " {'p1': {'b1': 0, 'b2': 1},\n",
       "  'b1': {'d': 1},\n",
       "  'b2': {'d': 1},\n",
       "  'p2': {'b2': 0, 'b3': 1},\n",
       "  'b3': {'d': 1},\n",
       "  'p3': {'b1': 1, 'b4': 0},\n",
       "  'b4': {'d': 1},\n",
       "  'p4': {'b1': 0, 'b2': 0, 'b4': 1},\n",
       "  'o': {'p1': 1, 'p2': 1, 'p3': 1, 'p4': 1},\n",
       "  'd': {}})"
      ]
     },
     "execution_count": 14,
     "metadata": {},
     "output_type": "execute_result"
    }
   ],
   "source": [
    "nx.algorithms.flow.maximum_flow(G,'o','d')"
   ]
  },
  {
   "cell_type": "markdown",
   "id": "f0ceb56e",
   "metadata": {},
   "source": [
    "### exercise 2.2\n",
    "\n",
    "Assume now that there are multiple copies books, and the distribution of the number of\n",
    "copies is (2, 3, 2, 2). Each person can take an arbitrary number of different books. Exploit\n",
    "the analogy with max-flow problems to establish how many books of interest can be assigned\n",
    "in total.\n"
   ]
  },
  {
   "cell_type": "code",
   "execution_count": 15,
   "id": "fbc08e07",
   "metadata": {},
   "outputs": [
    {
     "data": {
      "text/plain": [
       "{('p1', 'b1'): {'capacity': 1},\n",
       " ('p1', 'b2'): {'capacity': 1},\n",
       " ('b1', 'd'): {'capacity': 2},\n",
       " ('b2', 'd'): {'capacity': 3},\n",
       " ('p2', 'b2'): {'capacity': 1},\n",
       " ('p2', 'b3'): {'capacity': 1},\n",
       " ('b3', 'd'): {'capacity': 2},\n",
       " ('p3', 'b1'): {'capacity': 1},\n",
       " ('p3', 'b4'): {'capacity': 1},\n",
       " ('b4', 'd'): {'capacity': 2},\n",
       " ('p4', 'b1'): {'capacity': 1},\n",
       " ('p4', 'b2'): {'capacity': 1},\n",
       " ('p4', 'b4'): {'capacity': 1},\n",
       " ('o', 'p1'): {'capacity': 9},\n",
       " ('o', 'p2'): {'capacity': 9},\n",
       " ('o', 'p3'): {'capacity': 9},\n",
       " ('o', 'p4'): {'capacity': 9}}"
      ]
     },
     "execution_count": 15,
     "metadata": {},
     "output_type": "execute_result"
    }
   ],
   "source": [
    "#since now we have the books, we need to update the capacities as described in the report \n",
    "n_books = [2,3,2,2]\n",
    "for i,node in enumerate(b):\n",
    "    G[node]['d']['capacity']=n_books[i] \n",
    "for i,node in enumerate(p):\n",
    "    G['o'][node]['capacity']=sum(n_books)  #=sum(n_books) is a safe assumption (we know that the capacity won't be used \n",
    "                                           #  but without knowledge on the graph this is the best we can do)\n",
    "\n",
    "#check the updated graph\n",
    "dict(G.edges)"
   ]
  },
  {
   "cell_type": "code",
   "execution_count": 16,
   "id": "5b320aa8",
   "metadata": {},
   "outputs": [
    {
     "data": {
      "text/plain": [
       "(8,\n",
       " {'p1': {'b1': 0, 'b2': 1},\n",
       "  'b1': {'d': 2},\n",
       "  'b2': {'d': 3},\n",
       "  'p2': {'b2': 1, 'b3': 1},\n",
       "  'b3': {'d': 1},\n",
       "  'p3': {'b1': 1, 'b4': 1},\n",
       "  'b4': {'d': 2},\n",
       "  'p4': {'b1': 1, 'b2': 1, 'b4': 1},\n",
       "  'o': {'p1': 1, 'p2': 2, 'p3': 2, 'p4': 3},\n",
       "  'd': {}})"
      ]
     },
     "execution_count": 16,
     "metadata": {},
     "output_type": "execute_result"
    }
   ],
   "source": [
    "#perform the max-flow to check if there's perfect matching (from the result we would say no because books are 9, max flow is 8)\n",
    "nx.algorithms.flow.maximum_flow(G,'o','d')"
   ]
  },
  {
   "cell_type": "markdown",
   "id": "144ca066",
   "metadata": {},
   "source": [
    "### exercise 2.3\n",
    "Suppose that the library can sell a copy of a book and buy a copy of another book. Which\n",
    "books should be sold and bought to maximize the number of assigned books?\n"
   ]
  },
  {
   "cell_type": "code",
   "execution_count": 17,
   "id": "4be4ca91",
   "metadata": {},
   "outputs": [
    {
     "name": "stdout",
     "output_type": "stream",
     "text": [
      "best_found\n",
      "removed one capacity from (b3,d) and added one capacity to (b1,d) and the max flow is (9, {'p1': {'b1': 1, 'b2': 1}, 'b1': {'d': 3}, 'b2': {'d': 3}, 'p2': {'b2': 1, 'b3': 1}, 'b3': {'d': 1}, 'p3': {'b1': 1, 'b4': 1}, 'b4': {'d': 2}, 'p4': {'b1': 1, 'b2': 1, 'b4': 1}, 'o': {'p1': 2, 'p2': 2, 'p3': 2, 'p4': 3}, 'd': {}})\n"
     ]
    }
   ],
   "source": [
    "#let's compute all the feasible sol of removing one copy of a book and buy a copy of an another book\n",
    "max_flow = nx.algorithms.flow.maximum_flow(G,'o','d')\n",
    "#this max_flow is our starting point\n",
    "\n",
    "removed_b = ''\n",
    "added_b = ''\n",
    "for (u,v) in G.edges:\n",
    "    if v == 'd': # if the end-node is 'd'\n",
    "#         print('remove from node ' + u)\n",
    "        G1 = G # we create a copy of the original graph to do computation \n",
    "        G1[u][v]['capacity'] = G1[u][v]['capacity'] - 1 #subtract the capacity from the edge (u,v)\n",
    "        for node in b: # for all the nodes in the book subset \n",
    "            if node != u: # assure that the book is not the one we have just sold\n",
    "#                 print('add in node ' + node)\n",
    "                G1[node][v]['capacity'] = G1[node][v]['capacity'] + 1 #increase capacity of the bought book\n",
    "                flow = nx.algorithms.flow.maximum_flow(G,'o','d') # compute max-flow algorithm\n",
    "                if flow > max_flow: #check if this is the max-flow\n",
    "                    # if it is, then update...\n",
    "                    max_flow = flow \n",
    "                    removed_b = u\n",
    "                    added_b = node\n",
    "                    print('best_found')\n",
    "                    \n",
    "print(f'removed one capacity from ({removed_b},d) and added one capacity to ({added_b},d) and the max flow is {max_flow}')\n",
    "#requires some output handling but we can assure a perfect matching because max_flow = 9"
   ]
  },
  {
   "cell_type": "markdown",
   "id": "a6f7f2e9",
   "metadata": {},
   "source": [
    "## exercise3"
   ]
  },
  {
   "cell_type": "markdown",
   "id": "4033c5e7",
   "metadata": {},
   "source": [
    "We are given the highway network in Los Angeles, see Figure 2. \n",
    "To simplify the problem, an approximate highway map is given in Figure 3, covering part of the real highway\n",
    "network. The node-link incidence matrix B, for this traffic network is given in the file traffic.mat.\n",
    "The rows of B are associated with the nodes of the network and the columns of B with the links.\n",
    "The i-th column of B has 1 in the row corresponding to the tail node of link $e_i$ and (−1) in the row\n",
    "corresponding to the head node of link $e_i$\n",
    ". Each node represents an intersection between highways\n",
    "(and some of the area around).\n"
   ]
  },
  {
   "cell_type": "markdown",
   "id": "341f7c89",
   "metadata": {},
   "source": [
    "Each link $e_i$ ∈ {$e_1$, . . . , $e_{28}$}, has a maximum flow capacity $c_ei$\n",
    ". The capacities are given as\n",
    "a vector $c_e$ in the file $capacities.mat$. Furthermore, each link has a minimum travelling time $l_ei$\n",
    ",\n",
    "which the drivers experience when the road is empty. In the same manner as for the capacities,\n",
    "the minimum travelling times are given as a vector $l_e$ in the file $traveltime.mat$. These values are\n",
    "simply retrieved by dividing the length of the highway segment with the assumed speed limit 60\n",
    "miles/hour. For each link, we introduce the delay function"
   ]
  },
  {
   "cell_type": "code",
   "execution_count": 18,
   "id": "cbd91f31",
   "metadata": {},
   "outputs": [
    {
     "data": {
      "text/plain": [
       "(array([0.14583 , 0.044833, 0.129   , 0.18667 , 0.12983 , 0.078333,\n",
       "        0.094   , 0.057333, 0.14167 , 0.10517 , 0.10667 , 0.10483 ,\n",
       "        0.11233 , 0.1805  , 0.1215  , 0.080667, 0.075333, 0.056667,\n",
       "        0.032667, 0.035   , 0.066667, 0.11283 , 0.078333, 0.054167,\n",
       "        0.095833, 0.073   , 0.165   , 0.14867 ]),\n",
       " array([ 8741,  9864, 13350, 10926, 13707,  6960,  7422,  6678,  6297,\n",
       "        11102,  8899,  8970,  9753,  9719,  9083,  7416, 13353, 11216,\n",
       "        10947, 10019,  8732, 10763,  6677,  9403, 10355,  9067, 11990,\n",
       "         8258], dtype=uint16))"
      ]
     },
     "execution_count": 18,
     "metadata": {},
     "output_type": "execute_result"
    }
   ],
   "source": [
    "import scipy.io\n",
    "import networkx as nx\n",
    "import cvxpy as cp\n",
    "import numpy as np\n",
    "\n",
    "f = scipy.io.loadmat('flow.mat')[\"flow\"].reshape(28,)\n",
    "C = scipy.io.loadmat('capacities.mat')[\"capacities\"].reshape(28,)\n",
    "B = scipy.io.loadmat('traffic.mat')[\"traffic\"]\n",
    "l = scipy.io.loadmat('traveltime.mat')[\"traveltime\"].reshape(28,)\n",
    "\n",
    "B.shape\n",
    "\n",
    "# print(f)\n",
    "# print(C)\n",
    "# print(B)\n",
    "# print(l)\n",
    "l, C"
   ]
  },
  {
   "cell_type": "markdown",
   "id": "6638fea6",
   "metadata": {},
   "source": [
    "### exercise 3.1\n",
    "\n",
    "Find the shortest path between node 1 and 17. This is equivalent to the fastest path (path\n",
    "with shortest traveling time) in an empty network.\n"
   ]
  },
  {
   "cell_type": "code",
   "execution_count": 19,
   "id": "1d739360",
   "metadata": {},
   "outputs": [
    {
     "name": "stdout",
     "output_type": "stream",
     "text": [
      "[1. 1. 0. 0. 0. 0. 0. 0. 1. 0. 0. 1. 0. 0. 0. 0. 0. 0. 0. 0. 0. 0. 0. 0.\n",
      " 1. 0. 0. 0.]\n",
      "the sequence of node is : [(1, 2), (2, 3), (3, 9), (9, 13), (13, 17)]\n"
     ]
    }
   ],
   "source": [
    "import numpy as np\n",
    "\n",
    "n_edges = B.shape[1]\n",
    "\n",
    "#set the inflow vector $nu$\n",
    "nu = np.zeros(B.shape[0])\n",
    "nu[0] = 1\n",
    "nu[16] = -1\n",
    "\n",
    "#formulate the problem of the shortest path \n",
    "f = cp.Variable(n_edges)\n",
    "objective = cp.Minimize(l.T @ f)\n",
    "constraints = [B @ f == nu, f >=0]\n",
    "prob = cp.Problem(objective, constraints)\n",
    "result = prob.solve()\n",
    "\n",
    "#print(\"Optimal f:\", f.value)\n",
    "\n",
    "#handling of the result because of scientific notation \n",
    "for i,value in enumerate(f.value):\n",
    "    if value > 0.9:\n",
    "        f.value[i] = 1\n",
    "    else:\n",
    "        f.value[i] = 0\n",
    "\n",
    "print(f.value) \n",
    "edges = []\n",
    "\n",
    "# recall that f is the flow vector which indicates what are the edges that have been used \n",
    "for i,value in enumerate(f.value):\n",
    "    if value == 1:\n",
    "        column = B[:,i] # for each column of the node-edge matrix B\n",
    "        start = np.where(column == 1)[0] # starting node \n",
    "#         print('starting node : ' + str(start))\n",
    "        end = np.where(column == -1)[0] # ending node \n",
    "#         print('ending node : ' + str(end))\n",
    "        edges.append((start[0]+1,end[0]+1)) #update it because nodes in our visual starts from node1 to node17, in machine language from 0 to 16\n",
    "        \n",
    "print(f'the sequence of node is : {sorted(edges)}')\n"
   ]
  },
  {
   "cell_type": "markdown",
   "id": "24f22978",
   "metadata": {},
   "source": [
    "### exercise 3.2 \n",
    "Find the maximum flow between node 1 and 17"
   ]
  },
  {
   "cell_type": "code",
   "execution_count": 20,
   "id": "45872e84",
   "metadata": {},
   "outputs": [
    {
     "data": {
      "text/plain": [
       "(22448,\n",
       " {1: {2: 8741, 6: 13707},\n",
       "  2: {3: 8741, 7: 0},\n",
       "  3: {4: 0, 8: 0, 9: 8741},\n",
       "  4: {5: 0, 9: 0},\n",
       "  5: {14: 0},\n",
       "  6: {7: 4624, 10: 9083},\n",
       "  7: {8: 4624, 10: 0},\n",
       "  8: {9: 4624, 11: 0},\n",
       "  9: {13: 6297, 12: 7068},\n",
       "  13: {14: 3835, 17: 10355},\n",
       "  14: {17: 3835},\n",
       "  10: {11: 825, 15: 8258},\n",
       "  11: {12: 825, 15: 0},\n",
       "  15: {16: 8258},\n",
       "  12: {13: 7893},\n",
       "  17: {},\n",
       "  16: {17: 8258}})"
      ]
     },
     "execution_count": 20,
     "metadata": {},
     "output_type": "execute_result"
    }
   ],
   "source": [
    "#construct the graph from node-edge matrix B and capacity vector C\n",
    "edges = []\n",
    "for i in range(n_edges): \n",
    "    column = B[:,i] # for the i-th column of the matrix  \n",
    "    start = np.where(column == 1)[0] #extract tail node \n",
    "    end = np.where(column == -1)[0] #extract head node\n",
    "    \n",
    "    capacity = C[i] # for the i-th capacity \n",
    "    \n",
    "    edges.append((start[0]+1,end[0]+1,{'capacity':capacity})) #add (tail, head)['capacity'] to the edges vector \n",
    "\n",
    "G = nx.DiGraph()\n",
    "# create graph from the edges \n",
    "G.add_edges_from(edges)\n",
    "\n",
    "#apply the max_flow algorithm\n",
    "nx.algorithms.flow.maximum_flow(G,1,17)"
   ]
  },
  {
   "cell_type": "markdown",
   "id": "b5a43b6e",
   "metadata": {},
   "source": [
    "### exercise 3.3 \n",
    "\n",
    "Given the flow vector in $flow.mat$, compute the external inflow $ν$ satisfying $Bf = ν$"
   ]
  },
  {
   "cell_type": "code",
   "execution_count": 21,
   "id": "3a61651d",
   "metadata": {},
   "outputs": [],
   "source": [
    "f = scipy.io.loadmat('flow.mat')[\"flow\"].reshape(28,)\n",
    "C = scipy.io.loadmat('capacities.mat')[\"capacities\"].reshape(28,)\n",
    "B = scipy.io.loadmat('traffic.mat')[\"traffic\"]\n",
    "l = scipy.io.loadmat('traveltime.mat')[\"traveltime\"].reshape(28,)"
   ]
  },
  {
   "cell_type": "code",
   "execution_count": 22,
   "id": "1fcdcec5",
   "metadata": {},
   "outputs": [
    {
     "data": {
      "text/plain": [
       "array([ 16806,   8570,  19448,   4957,   -746,   4768,    413,     -2,\n",
       "        -5671,   1169,     -5,  -7131,   -380,  -7412,  -7810,  -3430,\n",
       "       -23544], dtype=int32)"
      ]
     },
     "execution_count": 22,
     "metadata": {},
     "output_type": "execute_result"
    }
   ],
   "source": [
    "#simple multiplication for the inflow vector nu\n",
    "res = B @ f\n",
    "res"
   ]
  },
  {
   "cell_type": "code",
   "execution_count": 23,
   "id": "af0a51f6",
   "metadata": {},
   "outputs": [
    {
     "data": {
      "text/plain": [
       "0"
      ]
     },
     "execution_count": 23,
     "metadata": {},
     "output_type": "execute_result"
    }
   ],
   "source": [
    "# check if it satisfies the constrain sum(inflow_vector) = 0\n",
    "sum(res)"
   ]
  },
  {
   "cell_type": "code",
   "execution_count": 24,
   "id": "17d5c782",
   "metadata": {},
   "outputs": [
    {
     "data": {
      "text/plain": [
       "array([ 16806.,      0.,      0.,      0.,      0.,      0.,      0.,\n",
       "            0.,      0.,      0.,      0.,      0.,      0.,      0.,\n",
       "            0.,      0., -16806.])"
      ]
     },
     "execution_count": 24,
     "metadata": {},
     "output_type": "execute_result"
    }
   ],
   "source": [
    "#set the new inflow vector for the next steps\n",
    "nu = np.zeros(G.number_of_nodes())\n",
    "nu[0] = res[0]\n",
    "nu[-1] = -res[0]\n",
    "nu"
   ]
  },
  {
   "cell_type": "markdown",
   "id": "a5726f19",
   "metadata": {},
   "source": [
    "### exercise 3.4\n",
    "Find the social optimum $f^*$ with respect to the delays on the different links $τ_e(f_e)$. For this,\n",
    "minimize the cost function"
   ]
  },
  {
   "cell_type": "code",
   "execution_count": 25,
   "id": "679b018f",
   "metadata": {},
   "outputs": [
    {
     "data": {
      "text/plain": [
       "((28,), (28,), 28, (17, 28))"
      ]
     },
     "execution_count": 25,
     "metadata": {},
     "output_type": "execute_result"
    }
   ],
   "source": [
    "l.T.shape, C.shape, n_edges, B.shape"
   ]
  },
  {
   "cell_type": "code",
   "execution_count": 26,
   "id": "51aae457",
   "metadata": {},
   "outputs": [],
   "source": [
    "def cost_funct_social_optimum(f, l, c, n_edges):\n",
    "    cost_list = []\n",
    "    for e in range(n_edges):\n",
    "        cost = cp.multiply(cp.multiply(l[e],c[e]),cp.inv_pos(1 - f[e]/c[e])) - cp.multiply(l[e],c[e]) #cost function with cvxpy syntax\n",
    "        cost_list.append(cost)\n",
    "    cost_function = cp.sum(cost_list)\n",
    "    return cost_function"
   ]
  },
  {
   "cell_type": "code",
   "execution_count": 27,
   "id": "cf753c9d",
   "metadata": {},
   "outputs": [
    {
     "name": "stdout",
     "output_type": "stream",
     "text": [
      "Social optimal flow: [ 6642.2  6058.9  3132.3  3132.3 10163.8  4638.3  3006.3  2542.6  3131.5\n",
      "   583.3     0.   2926.6     0.   3132.3  5525.5  2854.3  4886.4  2215.2\n",
      "   463.7  2337.7  3318.   5655.7  2373.1     0.   6414.1  5505.4  4886.5\n",
      "  4886.5]\n",
      "Optimal cost: 25943.62261121288\n"
     ]
    }
   ],
   "source": [
    "# Construct the problem.\n",
    "f = cp.Variable(n_edges)\n",
    "objective = cp.Minimize(cost_funct_social_optimum(f, l, C, n_edges))\n",
    "constraints = [B @ f == nu, f >=0, f<= C]\n",
    "prob = cp.Problem(objective, constraints)\n",
    "\n",
    "# The optimal objective value is returned by `prob.solve()`.\n",
    "cost_opt = prob.solve()\n",
    "# The optimal value for f is stored in `f.value`.\n",
    "opt_flow = f.value\n",
    "print(\"Social optimal flow:\", np.around(opt_flow,1))\n",
    "print(\"Optimal cost:\", cost_opt)"
   ]
  },
  {
   "cell_type": "markdown",
   "id": "7d96e3db",
   "metadata": {},
   "source": [
    "### exercise 3.4 \n",
    "Find the Wardrop equilibrium $f^{(0)}$. For this, use the cost function"
   ]
  },
  {
   "cell_type": "code",
   "execution_count": 28,
   "id": "39dead15",
   "metadata": {},
   "outputs": [
    {
     "name": "stdout",
     "output_type": "stream",
     "text": [
      "Wardrop flow: [ 6715.6  6715.6  2367.4  2367.4 10090.4  4645.4  2803.8  2283.6  3418.5\n",
      "     0.    176.8  4171.4     0.   2367.4  5445.   2353.2  4933.3  1841.6\n",
      "   697.1  3036.5  3050.3  6086.8  2586.5     0.   6918.7  4953.9  4933.3\n",
      "  4933.3]\n",
      "Optimal cost: 15729.607103430992\n"
     ]
    }
   ],
   "source": [
    "# Construct the problem.\n",
    "f = cp.Variable(n_edges)\n",
    "objective = cp.Minimize(cp.sum(-cp.multiply(cp.multiply(l,C),cp.log(1-f/C))))  #cost function with cvxpy syntax \n",
    "                                                                               #(explicit formulation in the report)\n",
    "constraints = [B @ f == nu, f >=0, f <= C]\n",
    "prob = cp.Problem(objective, constraints)\n",
    "\n",
    "# The optimal objective value is returned by `prob.solve()`.\n",
    "cost_opt = prob.solve()\n",
    "# The optimal value for f is stored in `f.value`.\n",
    "wardrop_flow = f.value\n",
    "print(\"Wardrop flow:\", np.around(wardrop_flow,1))\n",
    "print(\"Optimal cost:\", cost_opt)\n"
   ]
  },
  {
   "cell_type": "markdown",
   "id": "2717fb07",
   "metadata": {},
   "source": [
    " Introduce tolls, such that the toll on link e is $ω_e$ = ${f^*_e}$$τ'_e$${(f^*_e)}$\n",
    "is the flow at the system optimum. Now the delay on link e is given by $τ_e(f_e)$ + $ω_e$. compute the new Wardrop\n",
    "equilibrium $f^w$\n",
    ". What do you observe?"
   ]
  },
  {
   "cell_type": "code",
   "execution_count": 29,
   "id": "b03dc206",
   "metadata": {},
   "outputs": [
    {
     "data": {
      "text/plain": [
       "array([1.92210631e+00, 1.85064818e-01, 5.16694986e-02, 1.05176371e-01,\n",
       "       1.44072968e+00, 4.69146428e-01, 1.07571171e-01, 5.69255527e-02,\n",
       "       2.78803191e-01, 6.15501126e-03, 1.74005540e-07, 7.53489887e-02,\n",
       "       2.18581142e-08, 1.26658219e-01, 4.81817175e-01, 8.20545054e-02,\n",
       "       6.85716144e-02, 1.73792008e-02, 1.50892092e-03, 1.38933840e-02,\n",
       "       6.58964442e-02, 2.63303327e-01, 6.70070611e-02, 1.14962944e-08,\n",
       "       4.09840401e-01, 2.87273604e-01, 1.91578098e-01, 5.27755447e-01])"
      ]
     },
     "execution_count": 29,
     "metadata": {},
     "output_type": "execute_result"
    }
   ],
   "source": [
    "# calculate the toll (explicit formulation in the report )\n",
    "toll = opt_flow*l/(C*(pow(1-opt_flow/C,2)))\n",
    "toll"
   ]
  },
  {
   "cell_type": "code",
   "execution_count": 30,
   "id": "80a131bc",
   "metadata": {},
   "outputs": [
    {
     "name": "stdout",
     "output_type": "stream",
     "text": [
      "Wardrop toll revised flow: [ 6643.   6059.1  3132.5  3132.5 10163.   4638.3  3006.3  2542.3  3131.5\n",
      "   583.9     0.   2926.6     0.   3132.5  5524.8  2854.2  4886.4  2215.8\n",
      "   464.   2337.5  3318.2  5655.7  2373.      0.   6414.1  5505.5  4886.4\n",
      "  4886.4]\n",
      "61885.75828419043\n"
     ]
    }
   ],
   "source": [
    "# Construct the problem.\n",
    "f = cp.Variable(n_edges)\n",
    "objective = cp.Minimize(cp.sum(-cp.multiply(cp.multiply(l,C),cp.log(1-f/C)) + cp.multiply(toll,f))) #cost function with cvxpy syntax \n",
    "                                                                                          #(explicit formulation in the report)\n",
    "constraints = [B @ f == nu, f >=0, f <= C]\n",
    "prob = cp.Problem(objective, constraints)\n",
    "\n",
    "# The optimal objective value is returned by `prob.solve()`.\n",
    "cost_opt = prob.solve()\n",
    "# The optimal value for f is stored in `f.value`.\n",
    "wardrop_flow_revised = f.value\n",
    "print(\"Wardrop toll revised flow:\", np.around(wardrop_flow_revised,1))\n",
    "print(cost_opt)"
   ]
  },
  {
   "cell_type": "code",
   "execution_count": 31,
   "id": "48ed6b82",
   "metadata": {},
   "outputs": [
    {
     "data": {
      "text/plain": [
       "array([-0.8, -0.1, -0.1, -0.1,  0.8,  0.1,  0. ,  0.3,  0.1, -0.6,  0. ,\n",
       "       -0. ,  0. , -0.1,  0.7,  0. ,  0.1, -0.6, -0.3,  0.2, -0.2,  0. ,\n",
       "        0.1,  0. , -0. , -0.1,  0.1,  0.1])"
      ]
     },
     "execution_count": 31,
     "metadata": {},
     "output_type": "execute_result"
    }
   ],
   "source": [
    "#check how close are the social optimal and the wardrop with tolls\n",
    "res = (opt_flow - wardrop_flow_revised).tolist()\n",
    "np.around(res,1)"
   ]
  },
  {
   "cell_type": "markdown",
   "id": "fbe68b6b",
   "metadata": {},
   "source": [
    "### exercise 3.5\n",
    "Instead of the total travel time, let the cost for the system be the total additional delay\n",
    "compared to the total delay in free flow, given by \n",
    "$$\n",
    "    ψ_e(f_e) = f_e(τ_e(f_e)-l_e)\n",
    "$$\n",
    "subject to the flow constraints. Compute the system optimum $f^*$ for the costs above. Construct tolls $ω^*$ such that the Wardrop equilibrium $f^{(ω^*)}$ coincides with $f^*$. Compute the new Wardrop equilibrium with the constructed tolls $f^{(w^*)}$ to verify your result.\n"
   ]
  },
  {
   "cell_type": "code",
   "execution_count": 32,
   "id": "280c7c23",
   "metadata": {},
   "outputs": [],
   "source": [
    "def cost_tot_social_optimum(f, l, c, n_edges):\n",
    "    cost_list = []\n",
    "    for e in range(n_edges):\n",
    "        cost = cp.multiply(cp.multiply(l[e],c[e]),cp.inv_pos(1 - f[e]/c[e])) - cp.multiply(l[e],c[e]) - cp.multiply(f[e],l[e])\n",
    "                                                                                        #cost function with cvxpy syntax \n",
    "                                                                                       #(explicit formulation in the report)\n",
    "        cost_list.append(cost)\n",
    "    cost_function = sum(cost_list)\n",
    "    return cost_function"
   ]
  },
  {
   "cell_type": "code",
   "execution_count": 33,
   "id": "c6ffbf7d",
   "metadata": {},
   "outputs": [
    {
     "name": "stdout",
     "output_type": "stream",
     "text": [
      "tot Social optimal flow: [ 6653.3  5774.7  3419.7  3419.7 10152.7  4642.8  3105.8  2662.2  3009.1\n",
      "   878.6     0.   2354.9     0.   3419.7  5509.9  3043.7  4881.8  2415.6\n",
      "   443.7  2008.   3487.4  5495.4  2203.8     0.   6300.7  5623.5  4881.8\n",
      "  4881.8]\n",
      "Optimal cost: 15095.513524607864\n"
     ]
    }
   ],
   "source": [
    "# Construct the problem.\n",
    "f = cp.Variable(n_edges)\n",
    "objective = cp.Minimize(cost_tot_social_optimum(f, l, C, n_edges))\n",
    "constraints = [B @ f == nu, f >=0, f <= C]\n",
    "prob = cp.Problem(objective, constraints)\n",
    "\n",
    "# The optimal objective value is returned by `prob.solve()`.\n",
    "cost_opt = prob.solve()\n",
    "# The optimal value for f is stored in `f.value`.\n",
    "opt_flow2 = f.value\n",
    "print(\"tot Social optimal flow:\", np.around(opt_flow2,1))\n",
    "\n",
    "print(\"Optimal cost:\", cost_opt)"
   ]
  },
  {
   "cell_type": "code",
   "execution_count": 34,
   "id": "cd81c85b",
   "metadata": {},
   "outputs": [
    {
     "data": {
      "text/plain": [
       "array([  11.1, -284.3,  287.4,  287.4,  -11.1,    4.5,   99.5,  119.6,\n",
       "       -122.5,  295.4,   -0. , -571.7,    0. ,  287.4,  -15.6,  189.4,\n",
       "         -4.6,  200.3,  -20.1, -329.6,  169.4, -160.3, -169.3,    0. ,\n",
       "       -113.4,  118.1,   -4.6,   -4.6])"
      ]
     },
     "execution_count": 34,
     "metadata": {},
     "output_type": "execute_result"
    }
   ],
   "source": [
    "# how similar are the social opt computed here and the previous social opt?\n",
    "res = opt_flow2 - opt_flow\n",
    "np.around(res,1)\n"
   ]
  },
  {
   "cell_type": "code",
   "execution_count": 35,
   "id": "061f40f4",
   "metadata": {},
   "outputs": [
    {
     "data": {
      "text/plain": [
       "array([1.94584065e+00, 1.52711415e-01, 5.97224754e-02, 1.23786840e-01,\n",
       "       1.43018376e+00, 4.71408857e-01, 1.16314227e-01, 6.32036028e-02,\n",
       "       2.48314780e-01, 9.81552302e-03, 8.89899134e-08, 5.06045729e-02,\n",
       "       6.85184530e-08, 1.51183720e-01, 4.76284437e-01, 9.52456229e-02,\n",
       "       6.84313634e-02, 1.98235455e-02, 1.43814506e-03, 1.09723284e-02,\n",
       "       7.38053850e-02, 2.40509555e-01, 5.76040823e-02, 1.26928648e-08,\n",
       "       3.80384889e-01, 3.13898622e-01, 1.91146067e-01, 5.25804606e-01])"
      ]
     },
     "execution_count": 35,
     "metadata": {},
     "output_type": "execute_result"
    }
   ],
   "source": [
    "# computation of the new toll (explicit formulation in the report)\n",
    "tot_toll = opt_flow2*l/(C*(pow(1-opt_flow2/C,2))) \n",
    "tot_toll"
   ]
  },
  {
   "cell_type": "code",
   "execution_count": 36,
   "id": "3da7ae0d",
   "metadata": {},
   "outputs": [
    {
     "name": "stdout",
     "output_type": "stream",
     "text": [
      "Wardrop flow tot toll: [ 6653.1  5775.4  3419.5  3419.5 10152.9  4642.4  3105.5  2661.7  3009.2\n",
      "   877.7     0.   2355.9     0.   3419.5  5510.4  3043.4  4881.7  2414.6\n",
      "   443.8  2008.5  3487.1  5495.6  2204.1     0.   6300.7  5623.5  4881.7\n",
      "  4881.7]\n",
      "Optimal cost: 50795.96071700545\n"
     ]
    }
   ],
   "source": [
    "# Construct the problem.\n",
    "f = cp.Variable(n_edges)\n",
    "objective = cp.Minimize(cp.sum(-cp.multiply(cp.multiply(l,C),cp.log(C-f)-cp.log(C)) + cp.multiply(tot_toll,f) - cp.multiply(l,f))) \n",
    "                                                                        #cost function with cvxpy syntax \n",
    "                                                                        #(explicit formulation in the report)\n",
    "constraints = [B @ f == nu, f >=0, f <= C]\n",
    "prob = cp.Problem(objective, constraints)\n",
    "\n",
    "# The optimal objective value is returned by `prob.solve()`.\n",
    "cost_opt = prob.solve()\n",
    "# The optimal value for f is stored in `f.value`.\n",
    "wardrop_tot_flow_toll = f.value\n",
    "print(\"Wardrop flow tot toll:\", np.around(wardrop_tot_flow_toll,1))\n",
    "print(\"Optimal cost:\", cost_opt)"
   ]
  },
  {
   "cell_type": "code",
   "execution_count": 37,
   "id": "b263b916",
   "metadata": {},
   "outputs": [
    {
     "data": {
      "text/plain": [
       "array([ 0.2, -0.8,  0.2,  0.2, -0.2,  0.4,  0.3,  0.5, -0.1,  0.9,  0. ,\n",
       "       -1. ,  0. ,  0.2, -0.5,  0.3,  0.1,  0.9, -0.1, -0.5,  0.2, -0.2,\n",
       "       -0.3,  0. , -0. , -0.1,  0.1,  0.1])"
      ]
     },
     "execution_count": 37,
     "metadata": {},
     "output_type": "execute_result"
    }
   ],
   "source": [
    "# compute how similar are the new social opt and the new wardrop with tolls \n",
    "np.around(opt_flow2 - wardrop_tot_flow_toll,1)"
   ]
  },
  {
   "cell_type": "code",
   "execution_count": null,
   "id": "cc37297e",
   "metadata": {},
   "outputs": [],
   "source": []
  }
 ],
 "metadata": {
  "kernelspec": {
   "display_name": "Python 3",
   "language": "python",
   "name": "python3"
  },
  "language_info": {
   "codemirror_mode": {
    "name": "ipython",
    "version": 3
   },
   "file_extension": ".py",
   "mimetype": "text/x-python",
   "name": "python",
   "nbconvert_exporter": "python",
   "pygments_lexer": "ipython3",
   "version": "3.8.8"
  }
 },
 "nbformat": 4,
 "nbformat_minor": 5
}
